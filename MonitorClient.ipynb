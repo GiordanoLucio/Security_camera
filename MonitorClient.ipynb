{
 "cells": [
  {
   "cell_type": "markdown",
   "metadata": {},
   "source": [
    "Import Libraries"
   ]
  },
  {
   "cell_type": "code",
   "execution_count": 1,
   "metadata": {},
   "outputs": [],
   "source": [
    "import base64\n",
    "import numpy as np\n",
    "import cv2\n",
    "import pika"
   ]
  },
  {
   "cell_type": "markdown",
   "metadata": {},
   "source": [
    "Set Connection"
   ]
  },
  {
   "cell_type": "code",
   "execution_count": 2,
   "metadata": {},
   "outputs": [],
   "source": [
    "host = '192.168.56.102' #La mia macchina virtuale\n",
    "#host = '192.168.1.172'\n",
    "exchange_name = 'camera'\n",
    "routing_key_name = 'view'\n",
    "\n",
    "connection = pika.BlockingConnection(pika.ConnectionParameters(host=host))\n",
    "channel = connection.channel()"
   ]
  },
  {
   "cell_type": "code",
   "execution_count": 3,
   "metadata": {},
   "outputs": [
    {
     "data": {
      "text/plain": [
       "<METHOD(['channel_number=1', 'frame_type=1', 'method=<Queue.BindOk>'])>"
      ]
     },
     "execution_count": 3,
     "metadata": {},
     "output_type": "execute_result"
    }
   ],
   "source": [
    "channel.exchange_declare(exchange=exchange_name, exchange_type='topic')\n",
    "\n",
    "result = channel.queue_declare(queue=\"monitor_queue\", exclusive=True)\n",
    "queue_name = result.method.queue\n",
    "channel.queue_bind(exchange = exchange_name,\n",
    "                   queue = queue_name,\n",
    "                   routing_key = routing_key_name)"
   ]
  },
  {
   "cell_type": "markdown",
   "metadata": {},
   "source": [
    "Set Action"
   ]
  },
  {
   "cell_type": "code",
   "execution_count": 4,
   "metadata": {},
   "outputs": [],
   "source": [
    "#Callback\n",
    "def callback(ch, method, properties, body):\n",
    "    #Decode the frame\n",
    "    decodedString = base64.b64decode(body)\n",
    "    decodedImg = np.frombuffer(decodedString, dtype=np.uint8)\n",
    "    decodedImg = decodedImg.reshape(480, 640, 3)\n",
    "    \n",
    "    #Refresh monitor\n",
    "    cv2.imshow('Monitor View', decodedImg)\n",
    "    key = cv2.waitKey(10)\n",
    "    \n",
    "    if key % 256 == 27:\n",
    "        #ESC pressed\n",
    "        print(\"Closing...\")\n",
    "        #Close Stuff\n",
    "        connection.close()\n",
    "        cv2.destroyAllWindows()"
   ]
  },
  {
   "cell_type": "markdown",
   "metadata": {},
   "source": [
    "Set Monitor"
   ]
  },
  {
   "cell_type": "code",
   "execution_count": 5,
   "metadata": {},
   "outputs": [],
   "source": [
    "image = cv2.imread('placeholder.png')\n",
    "cv2.namedWindow('Monitor View', cv2.WINDOW_AUTOSIZE)\n",
    "cv2.imshow('Monitor View', image)\n",
    "key = cv2.waitKey(1)"
   ]
  },
  {
   "cell_type": "markdown",
   "metadata": {},
   "source": [
    "Consuming"
   ]
  },
  {
   "cell_type": "code",
   "execution_count": 6,
   "metadata": {},
   "outputs": [
    {
     "name": "stdout",
     "output_type": "stream",
     "text": [
      "Waiting For Messages\n",
      "Closing...\n"
     ]
    }
   ],
   "source": [
    "channel.basic_consume(callback,\n",
    "                      queue=queue_name,\n",
    "                      no_ack=True)\n",
    "\n",
    "print('Waiting For Messages')\n",
    "channel.start_consuming()"
   ]
  }
 ],
 "metadata": {
  "kernelspec": {
   "display_name": "Python 3",
   "language": "python",
   "name": "python3"
  },
  "language_info": {
   "codemirror_mode": {
    "name": "ipython",
    "version": 3
   },
   "file_extension": ".py",
   "mimetype": "text/x-python",
   "name": "python",
   "nbconvert_exporter": "python",
   "pygments_lexer": "ipython3",
   "version": "3.5.6"
  }
 },
 "nbformat": 4,
 "nbformat_minor": 2
}
