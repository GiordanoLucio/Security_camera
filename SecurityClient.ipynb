{
 "cells": [
  {
   "cell_type": "markdown",
   "metadata": {},
   "source": [
    "Import Libraries"
   ]
  },
  {
   "cell_type": "code",
   "execution_count": 1,
   "metadata": {},
   "outputs": [],
   "source": [
    "import base64\n",
    "import numpy as np\n",
    "import pika\n",
    "import threading\n",
    "import requests\n",
    "import face_recognition"
   ]
  },
  {
   "cell_type": "markdown",
   "metadata": {},
   "source": [
    "Set Connection"
   ]
  },
  {
   "cell_type": "code",
   "execution_count": 2,
   "metadata": {},
   "outputs": [],
   "source": [
    "host = '192.168.56.102' #La mia macchina virtuale\n",
    "#host = '192.168.1.172'\n",
    "exchange_name = 'camera'\n",
    "routing_key_name = 'security'\n",
    "\n",
    "connection = pika.BlockingConnection(pika.ConnectionParameters(host=host))\n",
    "channel = connection.channel()"
   ]
  },
  {
   "cell_type": "code",
   "execution_count": 3,
   "metadata": {},
   "outputs": [
    {
     "data": {
      "text/plain": [
       "<METHOD(['channel_number=1', 'frame_type=1', 'method=<Queue.BindOk>'])>"
      ]
     },
     "execution_count": 3,
     "metadata": {},
     "output_type": "execute_result"
    }
   ],
   "source": [
    "channel.exchange_declare(exchange=exchange_name, exchange_type='topic')\n",
    "\n",
    "result = channel.queue_declare(queue=\"security office\", exclusive=True)\n",
    "queue_name = result.method.queue\n",
    "channel.queue_bind(exchange = exchange_name,\n",
    "                   queue = queue_name,\n",
    "                   routing_key = routing_key_name)"
   ]
  },
  {
   "cell_type": "markdown",
   "metadata": {},
   "source": [
    "Set Actions"
   ]
  },
  {
   "cell_type": "code",
   "execution_count": 4,
   "metadata": {},
   "outputs": [],
   "source": [
    "def detection(image):\n",
    "    face_landmarks_list = face_recognition.face_landmarks(image)\n",
    "    count=0\n",
    "    for face_landmarks in face_landmarks_list:\n",
    "        count += 1\n",
    "    r = requests.post(\"http://192.168.56.102:32829\", data=str(count))\n",
    "    #print('Number of faces detected: ', count, ', ifttt sent')\n",
    "    #send request to nuclio where it triggers the ifttt with the number of faces detected"
   ]
  },
  {
   "cell_type": "code",
   "execution_count": 5,
   "metadata": {},
   "outputs": [],
   "source": [
    "def callback(ch, method, properties, body):        \n",
    "        #Decode the frame\n",
    "        decodedString = base64.b64decode(body)\n",
    "        decodedImg = np.frombuffer(decodedString, dtype=np.uint8)\n",
    "        decodedImg = decodedImg.reshape(480, 640, 3)\n",
    "        \n",
    "        #Start face detection\n",
    "        detection_thread = threading.Thread(target=detection, args=(decodedImg,))\n",
    "        detection_thread.start()\n"
   ]
  },
  {
   "cell_type": "markdown",
   "metadata": {},
   "source": [
    "Consuming"
   ]
  },
  {
   "cell_type": "code",
   "execution_count": null,
   "metadata": {},
   "outputs": [
    {
     "name": "stdout",
     "output_type": "stream",
     "text": [
      "Waiting For Messages\n"
     ]
    }
   ],
   "source": [
    "channel.basic_consume(callback,\n",
    "                      queue=queue_name,\n",
    "                      no_ack=True)\n",
    "\n",
    "print('Waiting For Messages')\n",
    "channel.start_consuming()"
   ]
  }
 ],
 "metadata": {
  "kernelspec": {
   "display_name": "Python 3",
   "language": "python",
   "name": "python3"
  },
  "language_info": {
   "codemirror_mode": {
    "name": "ipython",
    "version": 3
   },
   "file_extension": ".py",
   "mimetype": "text/x-python",
   "name": "python",
   "nbconvert_exporter": "python",
   "pygments_lexer": "ipython3",
   "version": "3.5.6"
  }
 },
 "nbformat": 4,
 "nbformat_minor": 2
}
