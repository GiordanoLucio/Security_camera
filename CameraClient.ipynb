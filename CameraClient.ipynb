{
 "cells": [
  {
   "cell_type": "code",
   "execution_count": 1,
   "metadata": {},
   "outputs": [],
   "source": [
    "import base64\n",
    "import cv2\n",
    "import pika"
   ]
  },
  {
   "cell_type": "code",
   "execution_count": 2,
   "metadata": {},
   "outputs": [],
   "source": [
    "#pika is a RabbitMQ python library \n",
    "#Producer and consumer.\n",
    "#Between them there is the queue. The producer sends a message to the queue but not directly, instead,\n",
    "#it uses an exchange. Publishing a message means that the publisher sends a message to an exchange and it forwards the message\n",
    "#to the queue. Consuming a message means that the consumer picks the message from the queue and consumes it.\n",
    "#The exchange is important because if we have more queue, through the 'binding_key', it knows who to send it to.\n",
    "#An exchange connects to a queue through a binding key. \n",
    "#To send a message, the producer needs to specify a 'routing key'.\n",
    "#DIFFERENT EXCHANGES:\n",
    "#Fanout sends the messages to all the queues it knows about.\n",
    "#Direct sends the messages where 'routing key'=='binding key'\n",
    "#Topic sends the messages where there is a partial match. for example 'red.*' will send it either at 'red.blue' and 'red.green'\n",
    "#Header uses messages header instead of 'routing key'\n",
    "#Default(nameless) send the message where 'routing key' == 'queue name'\n",
    "\n",
    "#SUM-UP\n",
    "#Producer emits messages to exchange\n",
    "#consumer receives messages from queue\n",
    "#Binding connects an exchange with a queue using binding key\n",
    "#exchange compares routing key with binding key.\n",
    "#messages distribution depends on exchange type"
   ]
  },
  {
   "cell_type": "markdown",
   "metadata": {},
   "source": [
    "Import Libraries"
   ]
  },
  {
   "cell_type": "markdown",
   "metadata": {},
   "source": [
    "Set Connection"
   ]
  },
  {
   "cell_type": "code",
   "execution_count": 3,
   "metadata": {},
   "outputs": [],
   "source": [
    "host = '192.168.56.102' #La mia macchina virtuale\n",
    "#host = '192.168.1.172'\n",
    "exchange_name = 'camera'\n",
    "routing_key_name = 'view'\n",
    "routing_key_security_name= 'security'\n",
    "#The BlockingConnection creates a layer on top of Pika’s asynchronous core providing methods\n",
    "#that will block until their expected response has returned.\n",
    "connection = pika.BlockingConnection(pika.ConnectionParameters(host))\n",
    "channel = connection.channel()"
   ]
  },
  {
   "cell_type": "code",
   "execution_count": 4,
   "metadata": {},
   "outputs": [
    {
     "data": {
      "text/plain": [
       "<METHOD(['channel_number=1', 'frame_type=1', 'method=<Exchange.DeclareOk>'])>"
      ]
     },
     "execution_count": 4,
     "metadata": {},
     "output_type": "execute_result"
    }
   ],
   "source": [
    "channel.exchange_declare(exchange=exchange_name, exchange_type='topic')"
   ]
  },
  {
   "cell_type": "markdown",
   "metadata": {},
   "source": [
    "Starting Camera"
   ]
  },
  {
   "cell_type": "code",
   "execution_count": 5,
   "metadata": {},
   "outputs": [
    {
     "name": "stdout",
     "output_type": "stream",
     "text": [
      "Sending messages\n",
      "Closing...\n"
     ]
    }
   ],
   "source": [
    "cam = cv2.VideoCapture(0)\n",
    "frame_number = -1\n",
    "\n",
    "cv2.namedWindow(\"Camera View\")\n",
    "print('Sending messages')\n",
    "\n",
    "while True:\n",
    "    #Show picture\n",
    "    ret, frame = cam.read()\n",
    "    cv2.imshow(\"Camera View\", frame)\n",
    "    \n",
    "    key = cv2.waitKey(50) & 0xFF\n",
    "    \n",
    "    if key % 256 == 27:\n",
    "        #ESC pressed\n",
    "        print(\"Closing...\")\n",
    "        break\n",
    "    if key % 256 == 32:\n",
    "        #SPACE pressed\n",
    "        encodedImg = base64.b64encode(frame)\n",
    "        \n",
    "        channel.basic_publish(exchange=exchange_name,\n",
    "                              routing_key=routing_key_security_name,\n",
    "                              body=encodedImg)\n",
    "        \n",
    "    #Don't send all the frames\n",
    "    frame_number += 1\n",
    "    if frame_number % 5 == 0:\n",
    "        frame_number = 0\n",
    "        \n",
    "        #Pre_elaboration\n",
    "        encodedImg = base64.b64encode(frame)\n",
    "\n",
    "        #Send to MQTT broker\n",
    "        channel.basic_publish(exchange=exchange_name,\n",
    "                              routing_key=routing_key_name,\n",
    "                              body=encodedImg)"
   ]
  },
  {
   "cell_type": "markdown",
   "metadata": {},
   "source": [
    "Close Stuff"
   ]
  },
  {
   "cell_type": "code",
   "execution_count": 6,
   "metadata": {},
   "outputs": [],
   "source": [
    "connection.close()      \n",
    "cam.release()\n",
    "cv2.destroyAllWindows()"
   ]
  }
 ],
 "metadata": {
  "kernelspec": {
   "display_name": "Python 3",
   "language": "python",
   "name": "python3"
  },
  "language_info": {
   "codemirror_mode": {
    "name": "ipython",
    "version": 3
   },
   "file_extension": ".py",
   "mimetype": "text/x-python",
   "name": "python",
   "nbconvert_exporter": "python",
   "pygments_lexer": "ipython3",
   "version": "3.5.6"
  }
 },
 "nbformat": 4,
 "nbformat_minor": 2
}
